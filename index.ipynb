{
  "cells": [
    {
      "cell_type": "raw",
      "metadata": {},
      "source": [
        "---\n",
        "title: \"Statistics Lectures\"\n",
        "author: \"Klinkenberg\"\n",
        "date: today\n",
        "format: \n",
        "  html: \n",
        "    page-layout: full\n",
        "    include-in-header: https://cdn.jsdelivr.net/npm/p5@1.4.2/lib/p5.js\n",
        "---"
      ],
      "id": "dcb46d23"
    },
    {
      "cell_type": "markdown",
      "metadata": {},
      "source": [
        "On this site you can find my statistics lectures for the various courses i give.\n",
        "\n",
        "\n",
        "```{js}\n",
        "let particles = [];\n",
        "const num = 1000;\n",
        "\n",
        "const noiseScale = 0.01/2;\n",
        "\n",
        "function setup() {\n",
        "  createCanvas(400, 400);\n",
        "  for(let i = 0; i < num; i ++) {\n",
        "    particles.push(createVector(random(width), random(height)));\n",
        "  }\n",
        "  \n",
        "  stroke(255,0,0);\n",
        "  // For a cool effect try uncommenting this line\n",
        "  // And comment out the background() line in draw\n",
        "  // stroke(255, 50);\n",
        "  clear();\n",
        "}\n",
        "\n",
        "function draw() {\n",
        "  background(255, 10);\n",
        "  for(let i = 0; i < num; i ++) {\n",
        "    let p = particles[i];\n",
        "    point(p.x, p.y);\n",
        "    let n = noise(p.x * noiseScale, p.y * noiseScale, frameCount * noiseScale * noiseScale);\n",
        "    let a = TAU * n;\n",
        "    p.x += cos(a);\n",
        "    p.y += sin(a);\n",
        "    if(!onScreen(p) && frameCount < 1000) {\n",
        "      p.x = random(width);\n",
        "      p.y = random(height);\n",
        "    }\n",
        "  }\n",
        "}\n",
        "\n",
        "function mouseReleased() {\n",
        "  noiseSeed(millis());\n",
        "}\n",
        "\n",
        "function onScreen(v) {\n",
        "  return v.x >= 0 && v.x <= width && v.y >= 0 && v.y <= height;\n",
        "}\n",
        "```"
      ],
      "id": "00aacccc"
    }
  ],
  "metadata": {
    "kernelspec": {
      "display_name": "Python 3",
      "language": "python",
      "name": "python3"
    }
  },
  "nbformat": 4,
  "nbformat_minor": 5
}